{
 "cells": [
  {
   "cell_type": "markdown",
   "id": "e9ec07dc",
   "metadata": {},
   "source": [
    "### Problem Statement\n",
    "Implement a function that merges two sorted lists of m and n elements respectively, into another sorted list. Name it merge_lists(lst1, lst2).\n",
    "\n",
    "#### Input\n",
    "Two sorted lists.\n",
    "\n",
    "#### Output\n",
    "A merged and sorted list consisting of all elements of both input lists.\n",
    "\n",
    "#### Sample Input\n",
    "list1 = [1,3,4,5]  \n",
    "list2 = [2,6,7,8]\n",
    "\n",
    "#### Sample Output \n",
    "arr = [1,2,3,4,5,6,7,8]"
   ]
  },
  {
   "cell_type": "code",
   "execution_count": 1,
   "id": "d56a2fe0",
   "metadata": {},
   "outputs": [
    {
     "name": "stdout",
     "output_type": "stream",
     "text": [
      "[-2, -1, 4, 5, 6, 7, 0]\n"
     ]
    }
   ],
   "source": [
    "#Solution 1: Creating a New List\n",
    "\n",
    "# Merge list1 and list2 and return resulted list\n",
    "def merge_lists(lst1, lst2):\n",
    "    index_arr1 = 0\n",
    "    index_arr2 = 0\n",
    "    index_result = 0\n",
    "    result = []\n",
    "\n",
    "    for i in range(len(lst1)+len(lst2)):\n",
    "        result.append(i)\n",
    "    # Traverse Both lists and insert smaller value from arr1 or arr2\n",
    "    # into result list and then increment that lists index.\n",
    "    # If a list is completely traversed, while other one is left then just\n",
    "    # copy all the remaining elements into result list\n",
    "    while (index_arr1 < len(lst1)) and (index_arr2 < len(lst2)):\n",
    "        if (lst1[index_arr1] < lst2[index_arr2]):\n",
    "            result[index_result] = lst1[index_arr1]\n",
    "            index_result += 1\n",
    "            index_arr1 += 1\n",
    "        else:\n",
    "            result[index_result] = lst2[index_arr2]\n",
    "            index_result += 1\n",
    "            index_arr2 += 1\n",
    "    while (index_arr1 < len(lst1)):\n",
    "        result[index_result] = lst1[index_arr1]\n",
    "        index_result += 1\n",
    "        index_arr1 += 1\n",
    "    while (index_arr2 < len(lst2)):\n",
    "        result[index_result] = lst2[index_arr2]\n",
    "        index_result += 1\n",
    "        index_arr2 += 1\n",
    "    return result\n",
    "\n",
    "\n",
    "print(merge_lists([4, 5, 6], [-2, -1, 7, 0]))\n"
   ]
  },
  {
   "cell_type": "markdown",
   "id": "1df3f055",
   "metadata": {},
   "source": [
    "The solution above is a more intuitive way to solve this problem. Start by creating a new empty list. This list will be filled with all the elements of both lists in sorted order and returned. Then initialize three variables to zero to store the current index of each list. Then compare the elements of the two given lists at the current index of each, append the smaller one to the new list and increment the index of that list by 1. Repeat until the end of one of the lists is reached and append the other list to the merged list.\n",
    "\n",
    "The time complexity for this algorithm is O(n+m) where n and mare the lengths of the lists. This is because both lists are iterated over atleast once."
   ]
  },
  {
   "cell_type": "code",
   "execution_count": 1,
   "id": "af249e33",
   "metadata": {},
   "outputs": [],
   "source": [
    "#Solution #2: Merging in Place\n",
    "def merge_lists(lst1, lst2):\n",
    "    # Write your code here\n",
    "    ind1 = 0\n",
    "    ind2 = 0\n",
    "\n",
    "    while (ind1 < len(lst1) and ind2 < len(lst2)):\n",
    "        if (lst1[ind1] > lst2[ind2]):\n",
    "            lst1.insert(ind1, lst2[ind2])\n",
    "            ind1 += 1\n",
    "            ind2 += 1\n",
    "        else:\n",
    "            ind1 += 1\n",
    "    \n",
    "    if (ind2 < len(lst2)):\n",
    "        lst1.extend(lst2[ind2:])\n",
    "\n",
    "    return lst1"
   ]
  },
  {
   "cell_type": "markdown",
   "id": "dabf3984",
   "metadata": {},
   "source": [
    "This solution merges the two lists in place, i.e., no new list is created. First, initialize two new variables to track the ‘current index’ of both the lists to zero. Then, compare the current elements of both. If the current element of the first list is greater than the current element of the second list, insert the current element of the second list in place of the current element of the first list and increment both index variables by 1. Note that the insert operation is done using the built-in insert function. However, if the current element of the first list is smaller than the current element of the second list, then only increment the index variable of the first list by 1. Continue this until the end of one of the lists is reached, i.e., until one of the index variables is greater than or equal to the length of its respective list. After that, if the index of the second list is smaller than the length of the list, extend the first list by the second one from that index until the end.\n",
    "\n",
    "\n",
    "\n",
    "Time Complexity#\n",
    "Since both lists are traversed in this solution as well, the time complexity is O(m(n+m))\n",
    "O(m(n+m))\n",
    " where n and m are the lengths of the lists. Both lists are not traversed separately so we cannot say that complexity is (m+n)\n",
    "(m+n)\n",
    ". The shorter of the two lengths is traversed in the while loop. Also, the insert function gets called when the if-condition is true. In the worst-case, the second list has all the elements that are smaller than the elements of the first list. In this case, the complexity will be O(mn)\n",
    "O(mn)\n",
    ".\n",
    "\n",
    "In order to further simplify the analysis, we could note that if m > n, we have O(m^2)\n",
    "O(m \n",
    "2\n",
    " )\n",
    ", otherwise the complexity is O(n^2\n",
    "n \n",
    "2\n",
    " \n",
    ").\n",
    "\n",
    "However, the extra space used in solution#1 is reduced to O(m)\n",
    "O(m)\n",
    " in solution#2. Thus, it makes this a tradeoff between space and time."
   ]
  },
  {
   "cell_type": "code",
   "execution_count": null,
   "id": "8c13b25d",
   "metadata": {},
   "outputs": [],
   "source": []
  }
 ],
 "metadata": {
  "kernelspec": {
   "display_name": "Python 3 (ipykernel)",
   "language": "python",
   "name": "python3"
  },
  "language_info": {
   "codemirror_mode": {
    "name": "ipython",
    "version": 3
   },
   "file_extension": ".py",
   "mimetype": "text/x-python",
   "name": "python",
   "nbconvert_exporter": "python",
   "pygments_lexer": "ipython3",
   "version": "3.9.7"
  }
 },
 "nbformat": 4,
 "nbformat_minor": 5
}
