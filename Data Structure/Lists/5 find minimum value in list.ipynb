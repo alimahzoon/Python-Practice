{
 "cells": [
  {
   "cell_type": "code",
   "execution_count": 1,
   "id": "9312b7b1",
   "metadata": {},
   "outputs": [
    {
     "name": "stdout",
     "output_type": "stream",
     "text": [
      "2\n"
     ]
    }
   ],
   "source": [
    "# sort the list\n",
    "def find_minimum(lst):\n",
    "    if (len(lst) <= 0):\n",
    "        return None\n",
    "    lst.sort()  # sort list\n",
    "    return lst[0]  # return first element\n",
    "\n",
    "\n",
    "print(find_minimum([9, 2, 3, 6]))"
   ]
  },
  {
   "cell_type": "code",
   "execution_count": 2,
   "id": "549e487f",
   "metadata": {},
   "outputs": [
    {
     "name": "stdout",
     "output_type": "stream",
     "text": [
      "2\n"
     ]
    }
   ],
   "source": [
    "def merge_sort(my_list):\n",
    "    if len(my_list) > 1:\n",
    "        mid = len(my_list) // 2\n",
    "        left = my_list[:mid]\n",
    "        right = my_list[mid:]\n",
    "\n",
    "        # Recursive call on each half\n",
    "        merge_sort(left)\n",
    "        merge_sort(right)\n",
    "\n",
    "        # Two iterators for traversing the two halves\n",
    "        i = 0\n",
    "        j = 0\n",
    "        \n",
    "        # Iterator for the main list\n",
    "        k = 0\n",
    "        \n",
    "        while i < len(left) and j < len(right):\n",
    "            if left[i] < right[j]:\n",
    "              # The value from the left half has been used\n",
    "              my_list[k] = left[i]\n",
    "              # Move the iterator forward\n",
    "              i += 1\n",
    "            else:\n",
    "                my_list[k] = right[j]\n",
    "                j += 1\n",
    "            # Move to the next slot\n",
    "            k += 1\n",
    "\n",
    "        # For all the remaining values\n",
    "        while i < len(left):\n",
    "            my_list[k] = left[i]\n",
    "            i += 1\n",
    "            k += 1\n",
    "\n",
    "        while j < len(right):\n",
    "            my_list[k]=right[j]\n",
    "            j += 1\n",
    "            k += 1\n",
    "\n",
    "\n",
    "def find_minimum(lst):\n",
    "    if (len(lst) <= 0):\n",
    "        return None\n",
    "    merge_sort(lst)  # sort list\n",
    "    return lst[0]  # return first element\n",
    "\n",
    "\n",
    "print(find_minimum([9, 2, 3, 6]))"
   ]
  },
  {
   "cell_type": "code",
   "execution_count": 3,
   "id": "5cf18f67",
   "metadata": {},
   "outputs": [
    {
     "name": "stdout",
     "output_type": "stream",
     "text": [
      "2\n"
     ]
    }
   ],
   "source": [
    "# iterate over the list\n",
    "def find_minimum(lst):\n",
    "    if (len(lst) <= 0):\n",
    "        return None\n",
    "    minimum = lst[0]\n",
    "    for ele in lst:\n",
    "        # update if found a smaller element\n",
    "        if ele < minimum:\n",
    "            minimum = ele\n",
    "    return minimum\n",
    "\n",
    "\n",
    "print(find_minimum([9, 2, 3, 6]))\n"
   ]
  },
  {
   "cell_type": "code",
   "execution_count": null,
   "id": "7fdc09d4",
   "metadata": {},
   "outputs": [],
   "source": []
  }
 ],
 "metadata": {
  "kernelspec": {
   "display_name": "Python 3 (ipykernel)",
   "language": "python",
   "name": "python3"
  },
  "language_info": {
   "codemirror_mode": {
    "name": "ipython",
    "version": 3
   },
   "file_extension": ".py",
   "mimetype": "text/x-python",
   "name": "python",
   "nbconvert_exporter": "python",
   "pygments_lexer": "ipython3",
   "version": "3.9.7"
  }
 },
 "nbformat": 4,
 "nbformat_minor": 5
}
