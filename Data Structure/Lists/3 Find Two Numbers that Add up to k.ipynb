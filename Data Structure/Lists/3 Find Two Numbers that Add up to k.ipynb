{
 "cells": [
  {
   "cell_type": "code",
   "execution_count": 3,
   "id": "c77a6054",
   "metadata": {},
   "outputs": [
    {
     "name": "stdout",
     "output_type": "stream",
     "text": [
      "[1, 4]\n"
     ]
    }
   ],
   "source": [
    "# Solution number one: Brute Force\n",
    "def find_sum(lst, k):\n",
    "    # iterate lst with i\n",
    "    for i in range(len(lst)):\n",
    "        # iterate lst with j\n",
    "        for j in range(len(lst)):\n",
    "            # if sum of two iterators is k\n",
    "            # and i is not equal to j\n",
    "            # then we have our answer\n",
    "            if(lst[i]+lst[j] is k and i is not j):\n",
    "                return [lst[i], lst[j]]\n",
    "\n",
    "\n",
    "print(find_sum([1, 2, 3, 4], 5))"
   ]
  },
  {
   "cell_type": "markdown",
   "id": "a6bc5823",
   "metadata": {},
   "source": [
    "This is the most time intensive but intuitive solution. Traverse the whole list of size, say s, for each element in the list and check if any of the two elements add up to the given number k. So, using two nested for-loops each iterating over the entire list will serve the purpose.\n",
    "\n",
    "Time Complexity\n",
    "Since we iterate over the entire list of k elements, n times in the worst case, therefore, the time complexity is O(n^2)\n",
    "O(n \n",
    "2\n",
    " )\n",
    "."
   ]
  },
  {
   "cell_type": "code",
   "execution_count": 5,
   "id": "98e9e8b1",
   "metadata": {},
   "outputs": [
    {
     "name": "stdout",
     "output_type": "stream",
     "text": [
      "None\n",
      "[1, 4]\n"
     ]
    },
    {
     "name": "stderr",
     "output_type": "stream",
     "text": [
      "<>:29: SyntaxWarning: \"is not\" with a literal. Did you mean \"!=\"?\n",
      "<>:29: SyntaxWarning: \"is not\" with a literal. Did you mean \"!=\"?\n",
      "C:\\Users\\Ali\\AppData\\Local\\Temp/ipykernel_26108/2578172983.py:29: SyntaxWarning: \"is not\" with a literal. Did you mean \"!=\"?\n",
      "  if index is not -1 and index is not j:\n"
     ]
    }
   ],
   "source": [
    "# Solutoin number two: sorting the list\n",
    "def binary_search(a, item):\n",
    "    first = 0\n",
    "    last = len(a) - 1\n",
    "    found = False\n",
    "    index = -1\n",
    "    while first <= last and not found:\n",
    "        mid = (first + last) // 2\n",
    "        if a[mid] == item:\n",
    "            index = mid\n",
    "            found = True\n",
    "        else:\n",
    "            if item < a[mid]:\n",
    "                last = mid - 1\n",
    "            else:\n",
    "                first = mid + 1\n",
    "    if found:\n",
    "        return index\n",
    "    else:\n",
    "        return -1\n",
    "\n",
    "\n",
    "def find_sum(lst, k):\n",
    "    lst.sort()\n",
    "    for j in range(len(lst)):\n",
    "        # find the difference in list through binary search\n",
    "        # return the only if we find an index\n",
    "        index = binary_search(lst, k -lst[j])\n",
    "        if index is not -1 and index is not j:\n",
    "            return [lst[j], k -lst[j]]\n",
    "    \n",
    "\n",
    "\n",
    "print(find_sum([1, 5, 3], 2))\n",
    "print(find_sum([1, 2, 3, 4], 5))"
   ]
  },
  {
   "cell_type": "markdown",
   "id": "f9522d3c",
   "metadata": {},
   "source": [
    "While solution #1 is very intuitive, it is not very time efficient. A better way to solve this challenge is by first sorting the list. Then for each element in the list, use a binary search to look for the difference between that element and the intended sum. In other words, if the intended sum is k and the first element of the sorted list is a0, then we will do a binary search for k-a0. The search is repeated for every ai up to an until one is found.” You can implement the binary_search() function however you like, recursively or iteratively.\n",
    "\n",
    "Time Complexity\n",
    "Since most optimal comparison-based sorting functions take O(nlogn)\n",
    "O(nlogn)\n",
    ", let’s assume that the Python .sort() function takes the same. Moreover, since binary search takes O(logn)\n",
    "O(logn)\n",
    " time for a finding a single element, therefore a binary search for all n elements will take O(nlogn)\n",
    "O(nlogn)\n",
    " time.”"
   ]
  },
  {
   "cell_type": "code",
   "execution_count": 4,
   "id": "c5c38d23",
   "metadata": {},
   "outputs": [
    {
     "name": "stdout",
     "output_type": "stream",
     "text": [
      "[1, 4]\n",
      "False\n"
     ]
    }
   ],
   "source": [
    "# Solution number three: moving indices\n",
    "def find_sum(lst, k):\n",
    "    # sort the list\n",
    "    lst.sort()\n",
    "    index1 = 0\n",
    "    index2 = len(lst) - 1\n",
    "    result = []\n",
    "    sum = 0\n",
    "    # iterate from front and back\n",
    "    # move accordingly to reach the sum to be equal to k\n",
    "    # returns false when the two indices meet\n",
    "    while (index1 != index2):\n",
    "        sum = lst[index1] + lst[index2]\n",
    "        if sum < k:\n",
    "            index1 += 1\n",
    "        elif sum > k:\n",
    "            index2 -= 1\n",
    "        else:\n",
    "            result.append(lst[index1])\n",
    "            result.append(lst[index2])\n",
    "            return result\n",
    "    return False\n",
    "\n",
    "\n",
    "print(find_sum([1, 2, 3, 4], 5))\n",
    "print(find_sum([1, 2, 3, 4], 2))"
   ]
  },
  {
   "cell_type": "markdown",
   "id": "7e787c81",
   "metadata": {},
   "source": [
    "The linear scan takes O(n)\n",
    "O(n)\n",
    " and sort takes O(n log n)\n",
    "O(nlogn)\n",
    ". The time complexity becomes O(n log n) + O(n)\n",
    "O(nlogn)+O(n)\n",
    " because the sort and the linear scan are done one after the other. The overall would be O(n log n)\n",
    "O(nlogn)\n",
    " in the worst case."
   ]
  },
  {
   "cell_type": "code",
   "execution_count": null,
   "id": "02e34725",
   "metadata": {},
   "outputs": [],
   "source": []
  }
 ],
 "metadata": {
  "kernelspec": {
   "display_name": "Python 3 (ipykernel)",
   "language": "python",
   "name": "python3"
  },
  "language_info": {
   "codemirror_mode": {
    "name": "ipython",
    "version": 3
   },
   "file_extension": ".py",
   "mimetype": "text/x-python",
   "name": "python",
   "nbconvert_exporter": "python",
   "pygments_lexer": "ipython3",
   "version": "3.9.7"
  }
 },
 "nbformat": 4,
 "nbformat_minor": 5
}
