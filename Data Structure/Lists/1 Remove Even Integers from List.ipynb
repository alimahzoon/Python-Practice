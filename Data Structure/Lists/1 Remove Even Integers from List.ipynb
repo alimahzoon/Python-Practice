{
 "cells": [
  {
   "cell_type": "markdown",
   "id": "1f8cad1d",
   "metadata": {},
   "source": [
    "### Implement a function that removes all the even elements from a given list. Name it remove_even(lst).\n",
    "\n",
    "### Input\n",
    "A list with random integers.\n",
    "\n",
    "### Output\n",
    "A list with only odd integers\n",
    "\n",
    "### Sample Input\n",
    "my_list = [1,2,4,5,10,6,3]\n",
    "### Sample Output\n",
    "my_list = [1,5,3]"
   ]
  },
  {
   "cell_type": "code",
   "execution_count": 1,
   "id": "85a22499",
   "metadata": {},
   "outputs": [],
   "source": [
    "def remove_even(lst):\n",
    "    # Write your code here!\n",
    "    my_list = []\n",
    "    for val in lst:\n",
    "        if (val % 2) != 0:\n",
    "            my_list.append(val)\n",
    "        else:\n",
    "            pass\n",
    "\n",
    "    return my_list"
   ]
  },
  {
   "cell_type": "code",
   "execution_count": 2,
   "id": "c02c9cfb",
   "metadata": {},
   "outputs": [
    {
     "data": {
      "text/plain": [
       "[1, 5, 3]"
      ]
     },
     "execution_count": 2,
     "metadata": {},
     "output_type": "execute_result"
    }
   ],
   "source": [
    "my_list = [1,2,4,5,10,6,3]\n",
    "remove_even(my_list)"
   ]
  }
 ],
 "metadata": {
  "kernelspec": {
   "display_name": "Python 3 (ipykernel)",
   "language": "python",
   "name": "python3"
  },
  "language_info": {
   "codemirror_mode": {
    "name": "ipython",
    "version": 3
   },
   "file_extension": ".py",
   "mimetype": "text/x-python",
   "name": "python",
   "nbconvert_exporter": "python",
   "pygments_lexer": "ipython3",
   "version": "3.9.7"
  }
 },
 "nbformat": 4,
 "nbformat_minor": 5
}
