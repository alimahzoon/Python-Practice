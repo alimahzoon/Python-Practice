{
 "cells": [
  {
   "cell_type": "code",
   "execution_count": 1,
   "id": "811aaa70",
   "metadata": {},
   "outputs": [
    {
     "name": "stdout",
     "output_type": "stream",
     "text": [
      "[24, 12, 8, 6]\n"
     ]
    }
   ],
   "source": [
    "# using a nested loop\n",
    "def find_product(lst):\n",
    "    result = []\n",
    "    left = 1  # To store product of all previous values from currentIndex\n",
    "    for i in range(len(lst)):\n",
    "        currentproduct = 1  # To store current product for index i\n",
    "        # compute product of values to the right of i index of list\n",
    "        for ele in lst[i+1:]:\n",
    "            currentproduct = currentproduct * ele\n",
    "        # currentproduct * product of all values to the left of i index\n",
    "        result.append(currentproduct * left)\n",
    "        # Updating `left`\n",
    "        left = left * lst[i]\n",
    "\n",
    "    return result\n",
    "\n",
    "\n",
    "print(find_product([1, 2, 3, 4]))\n"
   ]
  },
  {
   "cell_type": "code",
   "execution_count": 2,
   "id": "66f84fda",
   "metadata": {},
   "outputs": [
    {
     "name": "stdout",
     "output_type": "stream",
     "text": [
      "[6, 0, 0, 0]\n"
     ]
    }
   ],
   "source": [
    "# optimizing the number of multipications\n",
    "def find_product(lst):\n",
    "    # get product start from left\n",
    "    left = 1\n",
    "    product = []\n",
    "    for ele in lst:\n",
    "        product.append(left)\n",
    "        left = left * ele\n",
    "    # get product starting from right\n",
    "    right = 1\n",
    "    for i in range(len(lst)-1, -1, -1):\n",
    "        product[i] = product[i] * right\n",
    "        right = right * lst[i]\n",
    "\n",
    "    return product\n",
    "\n",
    "\n",
    "print(find_product([0, 1, 2, 3]))"
   ]
  },
  {
   "cell_type": "code",
   "execution_count": null,
   "id": "9b81421a",
   "metadata": {},
   "outputs": [],
   "source": []
  }
 ],
 "metadata": {
  "kernelspec": {
   "display_name": "Python 3 (ipykernel)",
   "language": "python",
   "name": "python3"
  },
  "language_info": {
   "codemirror_mode": {
    "name": "ipython",
    "version": 3
   },
   "file_extension": ".py",
   "mimetype": "text/x-python",
   "name": "python",
   "nbconvert_exporter": "python",
   "pygments_lexer": "ipython3",
   "version": "3.9.7"
  }
 },
 "nbformat": 4,
 "nbformat_minor": 5
}
